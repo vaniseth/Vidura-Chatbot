{
  "nbformat": 4,
  "nbformat_minor": 0,
  "metadata": {
    "colab": {
      "provenance": []
    },
    "kernelspec": {
      "name": "python3",
      "display_name": "Python 3"
    },
    "language_info": {
      "name": "python"
    }
  },
  "cells": [
    {
      "cell_type": "markdown",
      "source": [
        "# **NOVICE USER**"
      ],
      "metadata": {
        "id": "s3gA10lNHM22"
      }
    },
    {
      "cell_type": "code",
      "execution_count": null,
      "metadata": {
        "id": "JO_owa2RG8u1"
      },
      "outputs": [],
      "source": [
        "import matplotlib.pyplot as plt\n",
        "import numpy as np\n",
        "\n",
        "models = [\n",
        "    \"Llama-2-7B-chat-hf\",\n",
        "    \"Gemma-7B\",\n",
        "    \"GPT 4.0\",\n",
        "    \"Gemini\",\n",
        "    \"Claude\",\n",
        "    \"Nvidia-DeepSeek-r1\"\n",
        "]\n",
        "rouge_1 = [0.421052632, 0.220264317, 0.299319728, 0.243243243, 0.317460317]\n",
        "rouge_2 = [0.193103448, 0.08, 0.173913043, 0.02739726, 0.154897494]\n",
        "rouge_l = [0.277511962, 0.149779736, 0.217687075, 0.162162162, 0.149659864]\n",
        "cosine_similarity = [0.745100381, 0.617950258, 0.386706944, 0.266666925, 0.451934346]\n",
        "\n",
        "x = np.arange(len(models))\n",
        "fig, ax = plt.subplots(figsize=(12, 7))\n",
        "\n",
        "\n",
        "ax.plot(models, rouge_1, label=\"Rouge-1\", marker=\"o\", linestyle=\"--\", linewidth=2, markersize=8, color=\"blue\")\n",
        "ax.plot(models, rouge_2, label=\"Rouge-2\", marker=\"s\", linestyle=\"-.\", linewidth=2, markersize=8, color=\"orange\")\n",
        "ax.plot(models, rouge_l, label=\"Rouge-L\", marker=\"^\", linestyle=\":\", linewidth=2, markersize=8, color=\"green\")\n",
        "ax.plot(models, cosine_similarity, label=\"Cosine Similarity\", marker=\"d\", linestyle=\"-\", linewidth=2, markersize=8, color=\"red\")\n",
        "\n",
        "ax.set_title(\"Performance Metrics of LLM Models (Novice Users)\", fontsize=16, weight='bold')\n",
        "ax.set_xlabel(\"Models\", fontsize=14)\n",
        "ax.set_ylabel(\"Scores\", fontsize=14)\n",
        "ax.set_xticks(x)\n",
        "ax.set_xticklabels(models, rotation=25, fontsize=12, weight='bold')\n",
        "ax.legend(title=\"Metrics\", fontsize=12, title_fontsize=14)\n",
        "ax.grid(visible=True, linestyle=\"--\", alpha=0.6)\n",
        "\n",
        "ax.tick_params(axis='y', labelsize=16)\n",
        "\n",
        "for spine in ax.spines.values():\n",
        "    spine.set_linewidth(2)\n",
        "\n",
        "plt.tight_layout()\n",
        "\n",
        "plt.savefig(\"llm_performance_novice.png\", dpi=300, bbox_inches=\"tight\")\n",
        "plt.show()\n"
      ]
    },
    {
      "cell_type": "markdown",
      "source": [
        "## **Experienced Users**"
      ],
      "metadata": {
        "id": "sxcbBMGIHrgI"
      }
    },
    {
      "cell_type": "code",
      "source": [
        "import matplotlib.pyplot as plt\n",
        "import numpy as np\n",
        "\n",
        "# Data from the table\n",
        "models = [\n",
        "    \"Llama-2-7B-chat-hf\",\n",
        "    \"Gemma-7B\",\n",
        "    \"GPT 4.0\",\n",
        "    \"Gemini\",\n",
        "    \"Claude\",\n",
        "    \"Nvidia-DeepSeek-r1\"\n",
        "]\n",
        "rouge_1 = [0.336, 0.072667289, 0.203270689, 0.285714286, 0.265306122]\n",
        "rouge_2 = [0.113821138, 0.013954485, 0.065489295, 0.06741573, 0.00234]\n",
        "rouge_l = [0.208, 0.057660184, 0.142574636, 0.175824176, 0.183673469]\n",
        "cosine_similarity = [0.709794414, 0.419382737, 0.344293328, 0.239090008, 0.181148547]\n",
        "\n",
        "\n",
        "x = np.arange(len(models))\n",
        "\n",
        "fig, ax = plt.subplots(figsize=(12, 7))\n",
        "\n",
        "ax.plot(models, rouge_1, label=\"Rouge-1\", marker=\"o\", linestyle=\"--\", linewidth=2, markersize=8, color=\"blue\")\n",
        "ax.plot(models, rouge_2, label=\"Rouge-2\", marker=\"s\", linestyle=\"-.\", linewidth=2, markersize=8, color=\"orange\")\n",
        "ax.plot(models, rouge_l, label=\"Rouge-L\", marker=\"^\", linestyle=\":\", linewidth=2, markersize=8, color=\"green\")\n",
        "ax.plot(models, cosine_similarity, label=\"Cosine Similarity\", marker=\"d\", linestyle=\"-\", linewidth=2, markersize=8, color=\"red\")\n",
        "\n",
        "ax.set_title(\"Performance Metrics of LLM Models (Experienced Users)\", fontsize=16, weight='bold')\n",
        "ax.set_xlabel(\"Models\", fontsize=14)\n",
        "ax.set_ylabel(\"Scores\", fontsize=14)\n",
        "ax.set_xticks(x)\n",
        "ax.set_xticklabels(models, rotation=25, fontsize=12, weight='bold')\n",
        "ax.legend(title=\"Metrics\", fontsize=12, title_fontsize=14)\n",
        "ax.grid(visible=True, linestyle=\"--\", alpha=0.6)\n",
        "ax.tick_params(axis='y', labelsize=16)\n",
        "\n",
        "for spine in ax.spines.values():\n",
        "    spine.set_linewidth(2)\n",
        "\n",
        "plt.tight_layout()\n",
        "\n",
        "plt.savefig(\"llm_performance_experienced.png\", dpi=300, bbox_inches=\"tight\")\n",
        "plt.show()\n"
      ],
      "metadata": {
        "id": "3UsoHfkoHuWj"
      },
      "execution_count": null,
      "outputs": []
    },
    {
      "cell_type": "markdown",
      "source": [
        "# **NOVICE EXPERIMENTS**"
      ],
      "metadata": {
        "id": "x3BTwyawH_Qh"
      }
    },
    {
      "cell_type": "code",
      "source": [
        "import matplotlib.pyplot as plt\n",
        "import numpy as np\n",
        "\n",
        "models = [\n",
        "    \"Llama-2-7B-chat-hf\",\n",
        "    \"Gemma-7B\",\n",
        "    \"GPT 4.0\",\n",
        "    \"Gemini\",\n",
        "    \"Claude\",\n",
        "    \"Nvidia-DeepSeek-r1\"\n",
        "]\n",
        "rouge_1 = [0.398317264, 0.192489896, 0.302631579, 0.224, 0.236111111]\n",
        "rouge_2 = [0.170036808, 0.057416843, 0.066666667, 0.032520325, 0.084507042]\n",
        "rouge_l = [0.303880956, 0.147379046, 0.210526316, 0.16, 0.194444444]\n",
        "cosine_similarity = [0.68546298, 0.524970019, 0.357014799, 0.257020511, 0.293470489]\n",
        "\n",
        "x = np.arange(len(models))\n",
        "\n",
        "fig, ax = plt.subplots(figsize=(12, 7))\n",
        "\n",
        "ax.plot(models, rouge_1, label=\"Rouge-1\", marker=\"o\", linestyle=\"--\", linewidth=2, markersize=8, color=\"blue\")\n",
        "ax.plot(models, rouge_2, label=\"Rouge-2\", marker=\"s\", linestyle=\"-.\", linewidth=2, markersize=8, color=\"orange\")\n",
        "ax.plot(models, rouge_l, label=\"Rouge-L\", marker=\"^\", linestyle=\":\", linewidth=2, markersize=8, color=\"green\")\n",
        "ax.plot(models, cosine_similarity, label=\"Cosine Similarity\", marker=\"d\", linestyle=\"-\", linewidth=2, markersize=8, color=\"red\")\n",
        "\n",
        "ax.set_title(\"Performance Metrics of LLM Models (Experiments)\", fontsize=16, weight='bold')\n",
        "ax.set_xlabel(\"Models\", fontsize=14)\n",
        "ax.set_ylabel(\"Scores\", fontsize=14)\n",
        "ax.set_xticks(x)\n",
        "ax.set_xticklabels(models, rotation=25, fontsize=12, weight='bold')\n",
        "ax.legend(title=\"Metrics\", fontsize=12, title_fontsize=14)\n",
        "ax.grid(visible=True, linestyle=\"--\", alpha=0.6)\n",
        "ax.tick_params(axis='y', labelsize=16)\n",
        "\n",
        "for spine in ax.spines.values():\n",
        "    spine.set_linewidth(2)\n",
        "\n",
        "plt.tight_layout()\n",
        "plt.savefig(\"llm_performance_NOVICE_EXPERIMENTS.png\", dpi=300, bbox_inches=\"tight\")\n",
        "plt.show()\n"
      ],
      "metadata": {
        "id": "ZUayZsxRINCi"
      },
      "execution_count": null,
      "outputs": []
    },
    {
      "cell_type": "markdown",
      "source": [
        "# **EXPERIENCED EXPERIMENTS**"
      ],
      "metadata": {
        "id": "V_qh8OtEIfna"
      }
    },
    {
      "cell_type": "code",
      "source": [
        "import matplotlib.pyplot as plt\n",
        "import numpy as np\n",
        "\n",
        "models = [\n",
        "    \"Llama-2-7B-chat-hf\",\n",
        "    \"Gemma-7B\",\n",
        "    \"GPT 4.0\",\n",
        "    \"Gemini\",\n",
        "    \"Claude\",\n",
        "    \"Nvidia-DeepSeek-r1\"\n",
        "]\n",
        "rouge_1 = [0.398317264, 0.192489896, 0.302631579, 0.224, 0.236111111]\n",
        "rouge_2 = [0.170036808, 0.057416843, 0.066666667, 0.032520325, 0.084507042]\n",
        "rouge_l = [0.303880956, 0.147379046, 0.210526316, 0.16, 0.194444444]\n",
        "cosine_similarity = [0.68546298, 0.524970019, 0.357014799, 0.257020511, 0.293470489]\n",
        "\n",
        "x = np.arange(len(models))\n",
        "\n",
        "fig, ax = plt.subplots(figsize=(12, 7))\n",
        "\n",
        "ax.plot(models, rouge_1, label=\"Rouge-1\", marker=\"o\", linestyle=\"--\", linewidth=2, markersize=8, color=\"blue\")\n",
        "ax.plot(models, rouge_2, label=\"Rouge-2\", marker=\"s\", linestyle=\"-.\", linewidth=2, markersize=8, color=\"orange\")\n",
        "ax.plot(models, rouge_l, label=\"Rouge-L\", marker=\"^\", linestyle=\":\", linewidth=2, markersize=8, color=\"green\")\n",
        "ax.plot(models, cosine_similarity, label=\"Cosine Similarity\", marker=\"d\", linestyle=\"-\", linewidth=2, markersize=8, color=\"red\")\n",
        "\n",
        "ax.set_title(\"Performance Metrics of LLM Models (Experiments)\", fontsize=16, weight='bold')\n",
        "ax.set_xlabel(\"Models\", fontsize=14)\n",
        "ax.set_ylabel(\"Scores\", fontsize=14)\n",
        "ax.set_xticks(x)\n",
        "ax.set_xticklabels(models, rotation=25, fontsize=12, weight='bold')\n",
        "ax.legend(title=\"Metrics\", fontsize=12, title_fontsize=14)\n",
        "ax.grid(visible=True, linestyle=\"--\", alpha=0.6)\n",
        "ax.tick_params(axis='y', labelsize=16)\n",
        "\n",
        "for spine in ax.spines.values():\n",
        "    spine.set_linewidth(2)\n",
        "\n",
        "plt.tight_layout()\n",
        "plt.savefig(\"llm_performance_EXPERIENCED_EXPERIMENTS.png\", dpi=300, bbox_inches=\"tight\")\n",
        "plt.show()\n"
      ],
      "metadata": {
        "id": "O2VLR-J1IkiC"
      },
      "execution_count": null,
      "outputs": []
    }
  ]
}