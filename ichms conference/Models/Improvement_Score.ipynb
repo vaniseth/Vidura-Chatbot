{
  "nbformat": 4,
  "nbformat_minor": 0,
  "metadata": {
    "colab": {
      "provenance": []
    },
    "kernelspec": {
      "name": "python3",
      "display_name": "Python 3"
    },
    "language_info": {
      "name": "python"
    }
  },
  "cells": [
    {
      "cell_type": "code",
      "execution_count": null,
      "metadata": {
        "id": "zKf4nDvaI5bG"
      },
      "outputs": [],
      "source": [
        "# Data for Cosine Similarity scores\n",
        "cosine_similarity_scores = [0.68546298, 0.524970019, 0.357014799, 0.257020511, 0.293470489]\n",
        "\n",
        "# Calculating percentage improvement of Llama-2 over other models\n",
        "llama_cosine = cosine_similarity_scores[0]\n",
        "percent_improvement_cosine = [\n",
        "    ((llama_cosine - score) / score) * 100 for score in cosine_similarity_scores[1:]\n",
        "]\n",
        "\n",
        "# Calculate the average percentage improvement for cosine similarity\n",
        "average_improvement_cosine = sum(percent_improvement_cosine) / len(percent_improvement_cosine)\n",
        "sum_percent_improvement_cosine = sum(percent_improvement_cosine)\n",
        "len_percent_improvement_cosine = len(percent_improvement_cosine)\n",
        "\n",
        "average_improvement_cosine, sum_percent_improvement_cosine, len_percent_improvement_cosine\n"
      ]
    },
    {
      "cell_type": "code",
      "source": [
        "# Data for Rouge-1 scores\n",
        "models = [\"Llama-2-7B-chat-hf\", \"Gemma-7B\", \"GPT 4.0\", \"Gemini\", \"Claude\"]\n",
        "rouge_1_scores = [0.398317264, 0.192489896, 0.302631579, 0.224, 0.236111111]\n",
        "\n",
        "# Calculating percentage improvement of Llama-2 over other models\n",
        "llama_score = rouge_1_scores[0]\n",
        "percent_improvement = [\n",
        "    ((llama_score - score) / score) * 100 for score in rouge_1_scores[1:]\n",
        "]\n",
        "\n",
        "results = dict(zip(models[1:], percent_improvement))\n",
        "results"
      ],
      "metadata": {
        "id": "1soKgNA_JHo8"
      },
      "execution_count": null,
      "outputs": []
    },
    {
      "cell_type": "code",
      "source": [
        "# average percentage improvement\n",
        "average_improvement = sum(percent_improvement) / len(percent_improvement)\n",
        "average_improvement"
      ],
      "metadata": {
        "id": "eHsKBVDvJKqG"
      },
      "execution_count": null,
      "outputs": []
    }
  ]
}